{
  "nbformat": 4,
  "nbformat_minor": 0,
  "metadata": {
    "colab": {
      "provenance": [],
      "authorship_tag": "ABX9TyM5xC6PNx3NbwhrBn7dXfSi",
      "include_colab_link": true
    },
    "kernelspec": {
      "name": "python3",
      "display_name": "Python 3"
    },
    "language_info": {
      "name": "python"
    }
  },
  "cells": [
    {
      "cell_type": "markdown",
      "metadata": {
        "id": "view-in-github",
        "colab_type": "text"
      },
      "source": [
        "<a href=\"https://colab.research.google.com/github/329813/patient-tracker-applicaiton-system/blob/main/Untitled5.ipynb\" target=\"_parent\"><img src=\"https://colab.research.google.com/assets/colab-badge.svg\" alt=\"Open In Colab\"/></a>"
      ]
    },
    {
      "cell_type": "code",
      "source": [
        "from google.colab import drive\n",
        "drive.mount('/content/drive', force_remount = True)"
      ],
      "metadata": {
        "colab": {
          "base_uri": "https://localhost:8080/"
        },
        "id": "W5Jl1TBi5CRx",
        "outputId": "18158d37-b003-4868-d95b-ed4afb98ee87"
      },
      "execution_count": 18,
      "outputs": [
        {
          "output_type": "stream",
          "name": "stdout",
          "text": [
            "Mounted at /content/drive\n"
          ]
        }
      ]
    },
    {
      "cell_type": "code",
      "source": [
        "Train_dir='/content/drive/MyDrive/PandasBears/Train'\n",
        "Test_dir='/content/drive/MyDrive/PandasBears/Test'"
      ],
      "metadata": {
        "id": "7xjTnp7g5LYc"
      },
      "execution_count": 19,
      "outputs": []
    },
    {
      "cell_type": "code",
      "source": [
        "import os\n",
        "print(len(os.listdir('/content/drive/MyDrive/PandasBears/Train/Bears')))\n",
        "print(len(os.listdir('/content/drive/MyDrive/PandasBears/Train/Pandas')))\n",
        "print(len(os.listdir('/content/drive/MyDrive/PandasBears/Test/Bears')))\n",
        "print(len(os.listdir('/content/drive/MyDrive/PandasBears/Test/Pandas')))\n"
      ],
      "metadata": {
        "colab": {
          "base_uri": "https://localhost:8080/"
        },
        "id": "CGkT2wpq6AXh",
        "outputId": "74ab887b-7c33-47df-c0a1-91d4dfaa0b21"
      },
      "execution_count": 20,
      "outputs": [
        {
          "output_type": "stream",
          "name": "stdout",
          "text": [
            "250\n",
            "250\n",
            "50\n",
            "50\n"
          ]
        }
      ]
    },
    {
      "cell_type": "code",
      "source": [
        "import tensorflow as tf\n",
        "from tensorflow.keras.preprocessing.image import ImageDataGenerator\n",
        "\n",
        "\n",
        "train_datagen = ImageDataGenerator(\n",
        "    rescale=1./255,\n",
        "    validation_split=0.2\n",
        ")\n",
        "\n",
        "\n",
        "train_data = train_datagen.flow_from_directory(\n",
        "    Train_dir,\n",
        "    target_size=(256,256),\n",
        "    batch_size=32,\n",
        "    class_mode='binary',  # 'binary' for binary classification (Bears vs. Pandas)\n",
        "    subset='training'\n",
        ")\n",
        "\n",
        "\n",
        "validation_datagen = ImageDataGenerator(\n",
        "    rescale=1./255,\n",
        "    validation_split=0.2\n",
        ")\n",
        "\n",
        "\n",
        "validation_data = validation_datagen.flow_from_directory(\n",
        "    Train_dir,\n",
        "    target_size=(256,256),\n",
        "    batch_size=32,\n",
        "    class_mode='binary',\n",
        "    subset='validation'\n",
        ")"
      ],
      "metadata": {
        "colab": {
          "base_uri": "https://localhost:8080/"
        },
        "id": "aClrwFpa7Hty",
        "outputId": "5889592f-d661-437c-8311-bb79fe146dc9"
      },
      "execution_count": 21,
      "outputs": [
        {
          "output_type": "stream",
          "name": "stdout",
          "text": [
            "Found 400 images belonging to 2 classes.\n",
            "Found 100 images belonging to 2 classes.\n"
          ]
        }
      ]
    },
    {
      "cell_type": "code",
      "source": [
        "from tensorflow import keras\n",
        "from keras import Sequential\n",
        "from keras.layers import Dense,Conv2D,MaxPooling2D,Flatten,BatchNormalization,UpSampling2D, Dropout"
      ],
      "metadata": {
        "id": "ZwYEm-367Vln"
      },
      "execution_count": 22,
      "outputs": []
    },
    {
      "cell_type": "code",
      "source": [
        "# create CNN model\n",
        "\n",
        "model = Sequential()\n",
        "\n",
        "model.add(Conv2D(32,kernel_size=(3,3),padding='valid',activation='relu',input_shape=(256,256,3)))  # 32 filters\n",
        "\n",
        "model.add(MaxPooling2D(pool_size=(2,2),strides=2,padding='valid'))\n",
        "\n",
        "model.add(Conv2D(64,kernel_size=(3,3),padding='valid',activation='relu'))\n",
        "\n",
        "model.add(MaxPooling2D(pool_size=(2,2),strides=2,padding='valid'))\n",
        "\n",
        "model.add(Conv2D(128,kernel_size=(3,3),padding='valid',activation='relu'))\n",
        "\n",
        "model.add(MaxPooling2D(pool_size=(2,2),strides=2,padding='valid'))\n",
        "\n",
        "model.add(Flatten())\n",
        "\n",
        "model.add(Dense(128,activation='relu'))\n",
        "\n",
        "model.add(Dense(64,activation='relu'))\n",
        "\n",
        "model.add(Dense(1,activation='sigmoid'))"
      ],
      "metadata": {
        "colab": {
          "base_uri": "https://localhost:8080/"
        },
        "id": "ahnyo8iE7drH",
        "outputId": "b2fd094b-e76e-4ad1-ada4-1fe2c80db4b3"
      },
      "execution_count": 23,
      "outputs": [
        {
          "output_type": "stream",
          "name": "stderr",
          "text": [
            "/usr/local/lib/python3.10/dist-packages/keras/src/layers/convolutional/base_conv.py:107: UserWarning: Do not pass an `input_shape`/`input_dim` argument to a layer. When using Sequential models, prefer using an `Input(shape)` object as the first layer in the model instead.\n",
            "  super().__init__(activity_regularizer=activity_regularizer, **kwargs)\n"
          ]
        }
      ]
    },
    {
      "cell_type": "code",
      "source": [
        "from keras.optimizers import Adam\n",
        "model.compile(optimizer=Adam(learning_rate=0.001),loss='binary_crossentropy',metrics=['accuracy']) #binary_crossentropy - binary classification"
      ],
      "metadata": {
        "id": "dlL8HsjM8TI2"
      },
      "execution_count": 24,
      "outputs": []
    },
    {
      "cell_type": "code",
      "source": [
        "history = model.fit(train_data, epochs=30, validation_data=validation_data)"
      ],
      "metadata": {
        "colab": {
          "base_uri": "https://localhost:8080/"
        },
        "id": "lUjxqO-n8g8A",
        "outputId": "84b2b276-490c-48ec-bdc6-3010902108de"
      },
      "execution_count": 25,
      "outputs": [
        {
          "output_type": "stream",
          "name": "stdout",
          "text": [
            "Epoch 1/30\n"
          ]
        },
        {
          "output_type": "stream",
          "name": "stderr",
          "text": [
            "/usr/local/lib/python3.10/dist-packages/keras/src/trainers/data_adapters/py_dataset_adapter.py:122: UserWarning: Your `PyDataset` class should call `super().__init__(**kwargs)` in its constructor. `**kwargs` can include `workers`, `use_multiprocessing`, `max_queue_size`. Do not pass these arguments to `fit()`, as they will be ignored.\n",
            "  self._warn_if_super_not_called()\n"
          ]
        },
        {
          "output_type": "stream",
          "name": "stdout",
          "text": [
            "\u001b[1m13/13\u001b[0m \u001b[32m━━━━━━━━━━━━━━━━━━━━\u001b[0m\u001b[37m\u001b[0m \u001b[1m147s\u001b[0m 8s/step - accuracy: 0.6709 - loss: 0.8764 - val_accuracy: 1.0000 - val_loss: 0.0166\n",
            "Epoch 2/30\n",
            "\u001b[1m13/13\u001b[0m \u001b[32m━━━━━━━━━━━━━━━━━━━━\u001b[0m\u001b[37m\u001b[0m \u001b[1m69s\u001b[0m 5s/step - accuracy: 0.9901 - loss: 0.0579 - val_accuracy: 1.0000 - val_loss: 0.0027\n",
            "Epoch 3/30\n",
            "\u001b[1m13/13\u001b[0m \u001b[32m━━━━━━━━━━━━━━━━━━━━\u001b[0m\u001b[37m\u001b[0m \u001b[1m69s\u001b[0m 5s/step - accuracy: 0.9932 - loss: 0.0245 - val_accuracy: 1.0000 - val_loss: 0.0089\n",
            "Epoch 4/30\n",
            "\u001b[1m13/13\u001b[0m \u001b[32m━━━━━━━━━━━━━━━━━━━━\u001b[0m\u001b[37m\u001b[0m \u001b[1m70s\u001b[0m 5s/step - accuracy: 0.9908 - loss: 0.0266 - val_accuracy: 1.0000 - val_loss: 0.0030\n",
            "Epoch 5/30\n",
            "\u001b[1m13/13\u001b[0m \u001b[32m━━━━━━━━━━━━━━━━━━━━\u001b[0m\u001b[37m\u001b[0m \u001b[1m80s\u001b[0m 5s/step - accuracy: 1.0000 - loss: 0.0013 - val_accuracy: 1.0000 - val_loss: 2.4329e-04\n",
            "Epoch 6/30\n",
            "\u001b[1m13/13\u001b[0m \u001b[32m━━━━━━━━━━━━━━━━━━━━\u001b[0m\u001b[37m\u001b[0m \u001b[1m69s\u001b[0m 5s/step - accuracy: 1.0000 - loss: 0.0015 - val_accuracy: 1.0000 - val_loss: 1.3242e-04\n",
            "Epoch 7/30\n",
            "\u001b[1m13/13\u001b[0m \u001b[32m━━━━━━━━━━━━━━━━━━━━\u001b[0m\u001b[37m\u001b[0m \u001b[1m70s\u001b[0m 5s/step - accuracy: 1.0000 - loss: 2.2064e-04 - val_accuracy: 1.0000 - val_loss: 7.7553e-05\n",
            "Epoch 8/30\n",
            "\u001b[1m13/13\u001b[0m \u001b[32m━━━━━━━━━━━━━━━━━━━━\u001b[0m\u001b[37m\u001b[0m \u001b[1m81s\u001b[0m 5s/step - accuracy: 1.0000 - loss: 1.0102e-04 - val_accuracy: 1.0000 - val_loss: 5.1629e-05\n",
            "Epoch 9/30\n",
            "\u001b[1m13/13\u001b[0m \u001b[32m━━━━━━━━━━━━━━━━━━━━\u001b[0m\u001b[37m\u001b[0m \u001b[1m100s\u001b[0m 7s/step - accuracy: 1.0000 - loss: 7.4750e-05 - val_accuracy: 1.0000 - val_loss: 3.3530e-05\n",
            "Epoch 10/30\n",
            "\u001b[1m13/13\u001b[0m \u001b[32m━━━━━━━━━━━━━━━━━━━━\u001b[0m\u001b[37m\u001b[0m \u001b[1m75s\u001b[0m 6s/step - accuracy: 1.0000 - loss: 5.2805e-05 - val_accuracy: 1.0000 - val_loss: 2.1551e-05\n",
            "Epoch 11/30\n",
            "\u001b[1m13/13\u001b[0m \u001b[32m━━━━━━━━━━━━━━━━━━━━\u001b[0m\u001b[37m\u001b[0m \u001b[1m77s\u001b[0m 5s/step - accuracy: 1.0000 - loss: 3.5159e-05 - val_accuracy: 1.0000 - val_loss: 1.2257e-05\n",
            "Epoch 12/30\n",
            "\u001b[1m13/13\u001b[0m \u001b[32m━━━━━━━━━━━━━━━━━━━━\u001b[0m\u001b[37m\u001b[0m \u001b[1m81s\u001b[0m 5s/step - accuracy: 1.0000 - loss: 1.4806e-05 - val_accuracy: 1.0000 - val_loss: 8.2089e-06\n",
            "Epoch 13/30\n",
            "\u001b[1m13/13\u001b[0m \u001b[32m━━━━━━━━━━━━━━━━━━━━\u001b[0m\u001b[37m\u001b[0m \u001b[1m82s\u001b[0m 5s/step - accuracy: 1.0000 - loss: 8.2879e-06 - val_accuracy: 1.0000 - val_loss: 6.2805e-06\n",
            "Epoch 14/30\n",
            "\u001b[1m13/13\u001b[0m \u001b[32m━━━━━━━━━━━━━━━━━━━━\u001b[0m\u001b[37m\u001b[0m \u001b[1m84s\u001b[0m 5s/step - accuracy: 1.0000 - loss: 1.0960e-05 - val_accuracy: 1.0000 - val_loss: 4.6275e-06\n",
            "Epoch 15/30\n",
            "\u001b[1m13/13\u001b[0m \u001b[32m━━━━━━━━━━━━━━━━━━━━\u001b[0m\u001b[37m\u001b[0m \u001b[1m80s\u001b[0m 5s/step - accuracy: 1.0000 - loss: 8.4369e-06 - val_accuracy: 1.0000 - val_loss: 3.5626e-06\n",
            "Epoch 16/30\n",
            "\u001b[1m13/13\u001b[0m \u001b[32m━━━━━━━━━━━━━━━━━━━━\u001b[0m\u001b[37m\u001b[0m \u001b[1m79s\u001b[0m 6s/step - accuracy: 1.0000 - loss: 7.6778e-06 - val_accuracy: 1.0000 - val_loss: 2.8870e-06\n",
            "Epoch 17/30\n",
            "\u001b[1m13/13\u001b[0m \u001b[32m━━━━━━━━━━━━━━━━━━━━\u001b[0m\u001b[37m\u001b[0m \u001b[1m70s\u001b[0m 5s/step - accuracy: 1.0000 - loss: 4.2584e-06 - val_accuracy: 1.0000 - val_loss: 2.3635e-06\n",
            "Epoch 18/30\n",
            "\u001b[1m13/13\u001b[0m \u001b[32m━━━━━━━━━━━━━━━━━━━━\u001b[0m\u001b[37m\u001b[0m \u001b[1m81s\u001b[0m 5s/step - accuracy: 1.0000 - loss: 5.0294e-06 - val_accuracy: 1.0000 - val_loss: 2.0255e-06\n",
            "Epoch 19/30\n",
            "\u001b[1m13/13\u001b[0m \u001b[32m━━━━━━━━━━━━━━━━━━━━\u001b[0m\u001b[37m\u001b[0m \u001b[1m75s\u001b[0m 6s/step - accuracy: 1.0000 - loss: 3.7114e-06 - val_accuracy: 1.0000 - val_loss: 1.7159e-06\n",
            "Epoch 20/30\n",
            "\u001b[1m13/13\u001b[0m \u001b[32m━━━━━━━━━━━━━━━━━━━━\u001b[0m\u001b[37m\u001b[0m \u001b[1m69s\u001b[0m 5s/step - accuracy: 1.0000 - loss: 3.5230e-06 - val_accuracy: 1.0000 - val_loss: 1.5766e-06\n",
            "Epoch 21/30\n",
            "\u001b[1m13/13\u001b[0m \u001b[32m━━━━━━━━━━━━━━━━━━━━\u001b[0m\u001b[37m\u001b[0m \u001b[1m84s\u001b[0m 5s/step - accuracy: 1.0000 - loss: 2.1071e-06 - val_accuracy: 1.0000 - val_loss: 1.2363e-06\n",
            "Epoch 22/30\n",
            "\u001b[1m13/13\u001b[0m \u001b[32m━━━━━━━━━━━━━━━━━━━━\u001b[0m\u001b[37m\u001b[0m \u001b[1m69s\u001b[0m 5s/step - accuracy: 1.0000 - loss: 2.0360e-06 - val_accuracy: 1.0000 - val_loss: 1.0291e-06\n",
            "Epoch 23/30\n",
            "\u001b[1m13/13\u001b[0m \u001b[32m━━━━━━━━━━━━━━━━━━━━\u001b[0m\u001b[37m\u001b[0m \u001b[1m83s\u001b[0m 5s/step - accuracy: 1.0000 - loss: 1.4690e-06 - val_accuracy: 1.0000 - val_loss: 9.0510e-07\n",
            "Epoch 24/30\n",
            "\u001b[1m13/13\u001b[0m \u001b[32m━━━━━━━━━━━━━━━━━━━━\u001b[0m\u001b[37m\u001b[0m \u001b[1m90s\u001b[0m 6s/step - accuracy: 1.0000 - loss: 2.1522e-06 - val_accuracy: 1.0000 - val_loss: 8.1634e-07\n",
            "Epoch 25/30\n",
            "\u001b[1m13/13\u001b[0m \u001b[32m━━━━━━━━━━━━━━━━━━━━\u001b[0m\u001b[37m\u001b[0m \u001b[1m71s\u001b[0m 5s/step - accuracy: 1.0000 - loss: 1.9569e-06 - val_accuracy: 1.0000 - val_loss: 7.4533e-07\n",
            "Epoch 26/30\n",
            "\u001b[1m13/13\u001b[0m \u001b[32m━━━━━━━━━━━━━━━━━━━━\u001b[0m\u001b[37m\u001b[0m \u001b[1m81s\u001b[0m 5s/step - accuracy: 1.0000 - loss: 1.5584e-06 - val_accuracy: 1.0000 - val_loss: 7.4402e-07\n",
            "Epoch 27/30\n",
            "\u001b[1m13/13\u001b[0m \u001b[32m━━━━━━━━━━━━━━━━━━━━\u001b[0m\u001b[37m\u001b[0m \u001b[1m69s\u001b[0m 5s/step - accuracy: 1.0000 - loss: 1.3570e-06 - val_accuracy: 1.0000 - val_loss: 6.2366e-07\n",
            "Epoch 28/30\n",
            "\u001b[1m13/13\u001b[0m \u001b[32m━━━━━━━━━━━━━━━━━━━━\u001b[0m\u001b[37m\u001b[0m \u001b[1m89s\u001b[0m 6s/step - accuracy: 1.0000 - loss: 1.2075e-06 - val_accuracy: 1.0000 - val_loss: 5.4366e-07\n",
            "Epoch 29/30\n",
            "\u001b[1m13/13\u001b[0m \u001b[32m━━━━━━━━━━━━━━━━━━━━\u001b[0m\u001b[37m\u001b[0m \u001b[1m79s\u001b[0m 5s/step - accuracy: 1.0000 - loss: 6.9977e-07 - val_accuracy: 1.0000 - val_loss: 5.0333e-07\n",
            "Epoch 30/30\n",
            "\u001b[1m13/13\u001b[0m \u001b[32m━━━━━━━━━━━━━━━━━━━━\u001b[0m\u001b[37m\u001b[0m \u001b[1m79s\u001b[0m 5s/step - accuracy: 1.0000 - loss: 7.6333e-07 - val_accuracy: 1.0000 - val_loss: 4.3797e-07\n"
          ]
        }
      ]
    },
    {
      "cell_type": "code",
      "source": [
        "import matplotlib.pyplot as plt\n",
        "\n",
        "plt.plot(history.history['accuracy'],color='red',label='train')\n",
        "plt.plot(history.history['val_accuracy'],color='blue',label='validation')\n",
        "plt.legend()\n",
        "plt.show()"
      ],
      "metadata": {
        "colab": {
          "base_uri": "https://localhost:8080/",
          "height": 430
        },
        "id": "6S-6bPxBGn-n",
        "outputId": "bda0d858-05ee-4f6f-8e42-93884b03b876"
      },
      "execution_count": 26,
      "outputs": [
        {
          "output_type": "display_data",
          "data": {
            "text/plain": [
              "<Figure size 640x480 with 1 Axes>"
            ],
            "image/png": "[encoded data removed]"
          },
          "metadata": {}
        }
      ]
    },
    {
      "cell_type": "code",
      "source": [
        "plt.plot(history.history['loss'],color='red',label='train')\n",
        "plt.plot(history.history['val_loss'],color='blue',label='validation')\n",
        "plt.legend()\n",
        "plt.show()"
      ],
      "metadata": {
        "colab": {
          "base_uri": "https://localhost:8080/",
          "height": 430
        },
        "id": "CqPToR3iHImr",
        "outputId": "953721ab-2601-4a9e-dbcb-453df9e2cda5"
      },
      "execution_count": 27,
      "outputs": [
        {
          "output_type": "display_data",
          "data": {
            "text/plain": [
              "<Figure size 640x480 with 1 Axes>"
            ],
            "image/png": "[encoded data removed]"
          },
          "metadata": {}
        }
      ]
    },
    {
      "cell_type": "code",
      "source": [
        "test_datagen = ImageDataGenerator(rescale=1./255)\n",
        "test_data = test_datagen.flow_from_directory(\n",
        "    Test_dir,\n",
        "    target_size=(256,256),\n",
        "    batch_size=32,\n",
        "    class_mode='binary'\n",
        ")"
      ],
      "metadata": {
        "colab": {
          "base_uri": "https://localhost:8080/"
        },
        "id": "Of5WL3yLHmfc",
        "outputId": "ae3e1902-a153-4bc2-a741-d29a5e8eabc1"
      },
      "execution_count": 29,
      "outputs": [
        {
          "output_type": "stream",
          "name": "stdout",
          "text": [
            "Found 100 images belonging to 2 classes.\n"
          ]
        }
      ]
    },
    {
      "cell_type": "code",
      "source": [
        "#predict the test data\n",
        "predictions = model.predict(test_data)\n",
        "print(predictions)"
      ],
      "metadata": {
        "colab": {
          "base_uri": "https://localhost:8080/"
        },
        "id": "kQvhQ2VaH8Ps",
        "outputId": "13ab1121-7c60-43ed-e9a0-a53097d3344d"
      },
      "execution_count": 30,
      "outputs": [
        {
          "output_type": "stream",
          "name": "stderr",
          "text": [
            "/usr/local/lib/python3.10/dist-packages/keras/src/trainers/data_adapters/py_dataset_adapter.py:122: UserWarning: Your `PyDataset` class should call `super().__init__(**kwargs)` in its constructor. `**kwargs` can include `workers`, `use_multiprocessing`, `max_queue_size`. Do not pass these arguments to `fit()`, as they will be ignored.\n",
            "  self._warn_if_super_not_called()\n"
          ]
        },
        {
          "output_type": "stream",
          "name": "stdout",
          "text": [
            "\u001b[1m4/4\u001b[0m \u001b[32m━━━━━━━━━━━━━━━━━━━━\u001b[0m\u001b[37m\u001b[0m \u001b[1m11s\u001b[0m 3s/step\n",
            "[[4.0551726e-09]\n",
            " [7.2727413e-10]\n",
            " [1.0000000e+00]\n",
            " [1.0000000e+00]\n",
            " [1.2454740e-07]\n",
            " [4.3487880e-10]\n",
            " [1.0000000e+00]\n",
            " [1.0000000e+00]\n",
            " [1.0000000e+00]\n",
            " [2.8929120e-11]\n",
            " [8.4941006e-11]\n",
            " [1.0000000e+00]\n",
            " [1.4885450e-10]\n",
            " [3.2280292e-10]\n",
            " [9.9999911e-01]\n",
            " [2.2645104e-10]\n",
            " [1.1502810e-09]\n",
            " [1.0000000e+00]\n",
            " [2.0567149e-10]\n",
            " [1.2096628e-08]\n",
            " [1.0000000e+00]\n",
            " [9.9997807e-01]\n",
            " [1.9563771e-09]\n",
            " [2.3118526e-11]\n",
            " [1.0000000e+00]\n",
            " [1.0000000e+00]\n",
            " [3.2670422e-12]\n",
            " [9.9999988e-01]\n",
            " [1.0000000e+00]\n",
            " [6.2778671e-12]\n",
            " [1.0347464e-08]\n",
            " [1.0000000e+00]\n",
            " [1.0000000e+00]\n",
            " [1.0000000e+00]\n",
            " [3.8181121e-11]\n",
            " [9.9999988e-01]\n",
            " [1.0000000e+00]\n",
            " [4.6164144e-09]\n",
            " [5.0686695e-09]\n",
            " [5.1428785e-08]\n",
            " [1.0000000e+00]\n",
            " [1.0000000e+00]\n",
            " [2.1328758e-11]\n",
            " [9.9999988e-01]\n",
            " [9.9999952e-01]\n",
            " [2.1341778e-07]\n",
            " [8.7342541e-13]\n",
            " [9.9990505e-01]\n",
            " [1.0000000e+00]\n",
            " [1.4792103e-11]\n",
            " [9.9999970e-01]\n",
            " [1.0000000e+00]\n",
            " [2.2718318e-09]\n",
            " [9.9999940e-01]\n",
            " [6.6144274e-08]\n",
            " [2.3709450e-08]\n",
            " [1.0000000e+00]\n",
            " [9.9999952e-01]\n",
            " [9.9999893e-01]\n",
            " [1.6685176e-06]\n",
            " [1.1101900e-10]\n",
            " [1.0000000e+00]\n",
            " [1.1297635e-09]\n",
            " [1.0000000e+00]\n",
            " [2.4979186e-06]\n",
            " [9.9999958e-01]\n",
            " [6.2869474e-09]\n",
            " [2.6071925e-09]\n",
            " [1.0000000e+00]\n",
            " [1.0000000e+00]\n",
            " [1.0000000e+00]\n",
            " [1.0000000e+00]\n",
            " [1.9172504e-12]\n",
            " [2.7753176e-08]\n",
            " [8.4631271e-09]\n",
            " [1.0000000e+00]\n",
            " [9.9999976e-01]\n",
            " [9.9999923e-01]\n",
            " [1.0000000e+00]\n",
            " [3.9415782e-09]\n",
            " [1.0000000e+00]\n",
            " [9.6739925e-12]\n",
            " [2.1518019e-08]\n",
            " [1.2109851e-13]\n",
            " [1.0000000e+00]\n",
            " [3.0025821e-10]\n",
            " [1.0000000e+00]\n",
            " [2.5469911e-09]\n",
            " [5.0045754e-09]\n",
            " [1.2177470e-11]\n",
            " [1.0637817e-12]\n",
            " [1.0000000e+00]\n",
            " [1.2053208e-07]\n",
            " [9.9999952e-01]\n",
            " [9.9999976e-01]\n",
            " [2.6043852e-12]\n",
            " [1.0000000e+00]\n",
            " [1.4600813e-08]\n",
            " [9.9999893e-01]\n",
            " [9.7951215e-07]]\n"
          ]
        }
      ]
    },
    {
      "cell_type": "code",
      "source": [
        "len(predictions)"
      ],
      "metadata": {
        "colab": {
          "base_uri": "https://localhost:8080/"
        },
        "id": "LN7RaPXFIawa",
        "outputId": "1861a6ac-695a-47e3-f04e-ed2ba9a85d6d"
      },
      "execution_count": 31,
      "outputs": [
        {
          "output_type": "execute_result",
          "data": {
            "text/plain": [
              "100"
            ]
          },
          "metadata": {},
          "execution_count": 31
        }
      ]
    },
    {
      "cell_type": "code",
      "source": [
        "from sklearn.metrics import confusion_matrix, classification_report\n",
        "\n",
        "\n",
        "true_labels = test_data.classes\n",
        "predicted_labels = (predictions > 0.5).astype(int)\n",
        "\n",
        "x\n",
        "cm = confusion_matrix(true_labels, predicted_labels)\n",
        "\n",
        "\n",
        "print(\"Confusion Matrix:\")\n",
        "print(cm)\n",
        "\n",
        "# Print classification report\n",
        "print(\"Classification Report:\")\n",
        "print(classification_report(true_labels, predicted_labels))"
      ],
      "metadata": {
        "colab": {
          "base_uri": "https://localhost:8080/"
        },
        "id": "pW_s5QqhInw_",
        "outputId": "ab0217db-2115-4fd4-cd7b-548ca7015ec6"
      },
      "execution_count": 32,
      "outputs": [
        {
          "output_type": "stream",
          "name": "stdout",
          "text": [
            "Confusion Matrix:\n",
            "[[25 25]\n",
            " [25 25]]\n",
            "Classification Report:\n",
            "              precision    recall  f1-score   support\n",
            "\n",
            "           0       0.50      0.50      0.50        50\n",
            "           1       0.50      0.50      0.50        50\n",
            "\n",
            "    accuracy                           0.50       100\n",
            "   macro avg       0.50      0.50      0.50       100\n",
            "weighted avg       0.50      0.50      0.50       100\n",
            "\n"
          ]
        }
      ]
    }
  ]
}